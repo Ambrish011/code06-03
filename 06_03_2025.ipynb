{
  "nbformat": 4,
  "nbformat_minor": 0,
  "metadata": {
    "colab": {
      "provenance": [],
      "authorship_tag": "ABX9TyO40KTFOGkQPmUdDPL33hdW",
      "include_colab_link": true
    },
    "kernelspec": {
      "name": "python3",
      "display_name": "Python 3"
    },
    "language_info": {
      "name": "python"
    }
  },
  "cells": [
    {
      "cell_type": "markdown",
      "metadata": {
        "id": "view-in-github",
        "colab_type": "text"
      },
      "source": [
        "<a href=\"https://colab.research.google.com/github/Ambrish011/code06-03/blob/main/06_03_2025.ipynb\" target=\"_parent\"><img src=\"https://colab.research.google.com/assets/colab-badge.svg\" alt=\"Open In Colab\"/></a>"
      ]
    },
    {
      "cell_type": "code",
      "execution_count": 1,
      "metadata": {
        "colab": {
          "base_uri": "https://localhost:8080/"
        },
        "id": "ez-ad5V-jLX-",
        "outputId": "100477e6-9f02-4c98-da9e-82bc559ac014"
      },
      "outputs": [
        {
          "output_type": "stream",
          "name": "stdout",
          "text": [
            "First number greater than 50: 60\n"
          ]
        }
      ],
      "source": [
        "numbers = [10, 25, 60, 45, 30, 55, 70]\n",
        "\n",
        "for num in numbers:\n",
        "    if num > 50:\n",
        "        print(\"First number greater than 50:\", num)\n",
        "        break\n"
      ]
    },
    {
      "cell_type": "code",
      "source": [
        "\n",
        "numbers = list(map(int, input(\"Enter numbers separated by spaces: \").split()))\n",
        "\n",
        "for num in numbers:\n",
        "    if num > 50:\n",
        "        print(\"First number greater than 50:\", num)\n",
        "        break\n"
      ],
      "metadata": {
        "colab": {
          "base_uri": "https://localhost:8080/"
        },
        "id": "KtY4UNbVlMyW",
        "outputId": "db18bbfc-c61b-44c0-a42c-2b75d1bfd5db"
      },
      "execution_count": 2,
      "outputs": [
        {
          "output_type": "stream",
          "name": "stdout",
          "text": [
            "Enter numbers separated by spaces: 54\n",
            "First number greater than 50: 54\n"
          ]
        }
      ]
    },
    {
      "cell_type": "code",
      "source": [
        "correct_password = \"secret\"\n",
        "attempts = 0\n",
        "max_attempts = 3\n",
        "\n",
        "while attempts < max_attempts:\n",
        "    password = input(\"Enter your password: \")\n",
        "\n",
        "    if password == correct_password:\n",
        "        print(\"Login successful\")\n",
        "        break\n",
        "    else:\n",
        "        attempts += 1\n",
        "        print(\"Incorrect password. Try again.\")\n",
        "\n",
        "if attempts == max_attempts:\n",
        "    print(\"More than 3 wrong attempts, Account blocked!\")\n"
      ],
      "metadata": {
        "colab": {
          "base_uri": "https://localhost:8080/"
        },
        "id": "PocvEMi_ldd6",
        "outputId": "3a48d7b5-441a-46ca-9a35-a593245bb7e2"
      },
      "execution_count": 4,
      "outputs": [
        {
          "output_type": "stream",
          "name": "stdout",
          "text": [
            "Enter your password: RAI\n",
            "Incorrect password. Try again.\n",
            "Enter your password: secret\n",
            "Login successful\n"
          ]
        }
      ]
    },
    {
      "cell_type": "code",
      "source": [
        "numbers= list(map(int,input(\"enter number \").split()))\n",
        "print (numbers)\n",
        "for i in numbers:\n",
        "  if (i<0):\n",
        "    break\n",
        "  print (numbers)"
      ],
      "metadata": {
        "colab": {
          "base_uri": "https://localhost:8080/"
        },
        "id": "grCUIQL3oBgc",
        "outputId": "3f1e7a1d-4e84-44dc-c7d8-e3a9281d46fd"
      },
      "execution_count": 10,
      "outputs": [
        {
          "output_type": "stream",
          "name": "stdout",
          "text": [
            "enter number 4 5 6 8 9\n",
            "[4, 5, 6, 8, 9]\n",
            "[4, 5, 6, 8, 9]\n",
            "[4, 5, 6, 8, 9]\n",
            "[4, 5, 6, 8, 9]\n",
            "[4, 5, 6, 8, 9]\n",
            "[4, 5, 6, 8, 9]\n"
          ]
        }
      ]
    },
    {
      "cell_type": "code",
      "source": [
        "numbers=[1,2,3,4,5,6,7,8,9,10]\n",
        "for i in numbers:\n",
        "  if i%2==0:\n",
        "    continue\n",
        "  print(i)"
      ],
      "metadata": {
        "colab": {
          "base_uri": "https://localhost:8080/"
        },
        "id": "nNlo2-RRruPi",
        "outputId": "4f9a4f98-0d5a-4d06-b329-d9018128fa8d"
      },
      "execution_count": 12,
      "outputs": [
        {
          "output_type": "stream",
          "name": "stdout",
          "text": [
            "1\n",
            "3\n",
            "5\n",
            "7\n",
            "9\n"
          ]
        }
      ]
    },
    {
      "cell_type": "code",
      "source": [
        "number=[-2,5,-8,10,-3,15]\n",
        "for i in number:\n",
        "  if i<0:\n",
        "    continue\n",
        "  print(i)"
      ],
      "metadata": {
        "colab": {
          "base_uri": "https://localhost:8080/"
        },
        "id": "EkNkrWbasARc",
        "outputId": "c43b6681-e9de-489f-d7e3-1b7f4b760c92"
      },
      "execution_count": 14,
      "outputs": [
        {
          "output_type": "stream",
          "name": "stdout",
          "text": [
            "5\n",
            "10\n",
            "15\n"
          ]
        }
      ]
    },
    {
      "cell_type": "code",
      "source": [
        "my_string = input(\"Enter a string: \")\n",
        "count=0\n",
        "for i in my_string:\n",
        "  if i not in \"aeiouAEIOU\":\n",
        "    continue\n",
        "  else:\n",
        "    count=count+1\n",
        "print(count)"
      ],
      "metadata": {
        "colab": {
          "base_uri": "https://localhost:8080/"
        },
        "id": "CU2F7AVFsSfw",
        "outputId": "0696fae6-5b4b-4bdc-b1f2-ba06ffccb0b7"
      },
      "execution_count": 18,
      "outputs": [
        {
          "output_type": "stream",
          "name": "stdout",
          "text": [
            "Enter a string: pikachukimakichu\n",
            "7\n"
          ]
        }
      ]
    },
    {
      "cell_type": "code",
      "source": [
        "word = input(\"Enter a word: \")\n",
        "reversed_word = word[::-1]\n",
        "print(\"Reversed word:\", reversed_word)\n"
      ],
      "metadata": {
        "colab": {
          "base_uri": "https://localhost:8080/"
        },
        "id": "mswxpM5QtwgR",
        "outputId": "8bdd006b-cce0-4ef3-fbcc-911bd80cdad6"
      },
      "execution_count": 15,
      "outputs": [
        {
          "output_type": "stream",
          "name": "stdout",
          "text": [
            "Enter a word: ambrish\n",
            "Reversed word: hsirbma\n"
          ]
        }
      ]
    },
    {
      "cell_type": "code",
      "source": [
        "username = input(\"Enter username: \")\n",
        "\n",
        "if username == \"admin\":\n",
        "    password = input(\"Enter password: \")\n",
        "\n",
        "    if password == \"12345\":\n",
        "        print(\"Login successful\")\n",
        "    else:\n",
        "        print(\"Incorrect password\")\n",
        "else:\n",
        "    print(\"Incorrect username\")\n"
      ],
      "metadata": {
        "colab": {
          "base_uri": "https://localhost:8080/"
        },
        "id": "823VIQC7vCry",
        "outputId": "7d57fefa-b1f7-4f8e-ebcc-0ef033fcb476"
      },
      "execution_count": 20,
      "outputs": [
        {
          "output_type": "stream",
          "name": "stdout",
          "text": [
            "Enter username: admin\n",
            "Enter password: 1234\n",
            "Incorrect password\n"
          ]
        }
      ]
    },
    {
      "cell_type": "code",
      "source": [],
      "metadata": {
        "id": "2Mkh2Aqqv9YY"
      },
      "execution_count": null,
      "outputs": []
    }
  ]
}